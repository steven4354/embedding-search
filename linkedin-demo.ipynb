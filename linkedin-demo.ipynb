{
 "cells": [
  {
   "cell_type": "code",
   "execution_count": 2,
   "id": "d504e46c",
   "metadata": {},
   "outputs": [],
   "source": [
    "import os\n",
    "\n",
    "# check\n",
    "# print(os.environ)"
   ]
  },
  {
   "cell_type": "code",
   "execution_count": 3,
   "id": "7ab9d8c6",
   "metadata": {},
   "outputs": [
    {
     "name": "stdout",
     "output_type": "stream",
     "text": [
      "{\"profile_id\":\"williamhgates\",\"entity_urn\":\"ACoAAA8BYqEBCGLg_vT_ca6mMEqkpp9nVffJ3hc\",\"object_urn\":\"251749025\",\"first_name\":\"Bill\",\"last_name\":\"Gates\",\"sub_title\":\"Co-chair, Bill & Melinda Gates Foundation\",\"birth_date\":null,\"profile_picture\":\"https://media.licdn.com/dms/image/C5603AQERTD_EeJiGlA/profile-displayphoto-shrink_400_400/0/1661816468423?e=1678320000&v=beta&t=Qt4gQtISxuEMgTIDuPfORXQZV4m8BJOAkyayJqOAtoA\",\"summary\":\"Co-chair of the Bill & Melinda Gates Foundation. Founder of Breakthrough Energy. Co-founder of Microsoft. Voracious reader. Avid traveler. Active blogger.\",\"location\":{\"country\":\"United States\",\"short\":\"Seattle, Washington\",\"city\":\"Seattle\",\"state\":\"Washington\",\"default\":\"Seattle, Washington, United States\"},\"premium\":true,\"influencer\":true,\"treasury_media\":[{\"url\":\"https://www.gatesnotes.com/How-to-Prevent-the-Next-Pandemic\",\"title\":\"How to Prevent the Next Pandemic\",\"description\":\"If we make the right choices and investments, we can make COVID-19 the last pandemic.\",\"image\":\"https://media.licdn.com/dms/image/sync/C5627AQEFFJti1m7AEA/articleshare-shrink_800/0/1672256729218?e=1673402400&v=beta&t=E4-wWr9t1cryZXLeiwBu5NxkUyVPKBEg4aLdXO0JxXs\"}],\"languages\":{\"primary_locale\":{\"country\":\"US\",\"language\":\"en\"},\"supported_locales\":[{\"country\":\"US\",\"language\":\"en\"}],\"profile_languages\":[]},\"industry\":\"Philanthropy\",\"education\":[{\"date\":{\"start\":{\"month\":null,\"year\":1973},\"end\":{\"month\":null,\"year\":1975}},\"school\":{\"name\":\"Harvard University\",\"logo\":\"https://media.licdn.com/dms/image/C4E0BAQF5t62bcL0e9g/company-logo_400_400/0/1519855919126?e=1680739200&v=beta&t=v-XY-T_iGS1Eu3tiBwfqnqDq7kqIQfkOYwgneCK_0n8\"},\"degree_name\":null,\"field_of_study\":null},{\"date\":{\"start\":{\"month\":null,\"year\":null},\"end\":{\"month\":null,\"year\":null}},\"school\":{\"name\":\"Lakeside School\",\"logo\":\"https://media.licdn.com/dms/image/C4D0BAQENlfOPKBEk3Q/company-logo_400_400/0/1519856497259?e=1680739200&v=beta&t=yuBKvhrlj_R3uis_oewtGikZj-cTahHbgTF9WxO7VTM\"},\"degree_name\":null,\"field_of_study\":null}],\"patents\":[],\"awards\":[],\"certifications\":[],\"organizations\":[],\"projects\":[],\"publications\":[],\"courses\":[],\"test_scores\":[],\"position_groups\":[{\"company\":{\"name\":\"Bill & Melinda Gates Foundation\",\"logo\":\"https://media.licdn.com/dms/image/C4E0BAQE7Na_mKQhIJg/company-logo_400_400/0/1633731810932?e=1680739200&v=beta&t=076CUvTjImufsUvu1RkwPAdAWfwcVZp7O_swI5bcmiQ\",\"url\":\"https://www.linkedin.com/company/bill-&-melinda-gates-foundation/\",\"employees\":{\"start\":1001,\"end\":5000}},\"company_url\":\"https://www.linkedin.com/company/bill-&-melinda-gates-foundation/\",\"date\":{\"start\":{\"month\":null,\"year\":2000},\"end\":{\"month\":null,\"year\":null}},\"profile_positions\":[{\"location\":null,\"date\":{\"start\":{\"month\":null,\"year\":2000},\"end\":{\"month\":null,\"year\":null}},\"company\":\"Bill & Melinda Gates Foundation\",\"description\":null,\"title\":\"Co-chair\"}]},{\"company\":{\"name\":\"Breakthrough Energy \",\"logo\":\"https://media.licdn.com/dms/image/C4D0BAQGwD9vNu044FA/company-logo_400_400/0/1601560874941?e=1680739200&v=beta&t=v2vK_g6mfkV1nQmH6ZL2NUK28HkBUQFI0YEhmtCxJ78\",\"url\":\"https://www.linkedin.com/company/breakthrough-energy/\",\"employees\":{\"start\":51,\"end\":200}},\"company_url\":\"https://www.linkedin.com/company/breakthrough-energy/\",\"date\":{\"start\":{\"month\":null,\"year\":2015},\"end\":{\"month\":null,\"year\":null}},\"profile_positions\":[{\"location\":null,\"date\":{\"start\":{\"month\":null,\"year\":2015},\"end\":{\"month\":null,\"year\":null}},\"company\":\"Breakthrough Energy \",\"description\":null,\"title\":\"Founder\"}]},{\"company\":{\"name\":\"Microsoft\",\"logo\":\"https://media.licdn.com/dms/image/C560BAQE88xCsONDULQ/company-logo_400_400/0/1618231291419?e=1680739200&v=beta&t=1sRMxmAuHpBqgrVzM7ARO37uP1VgXfXsxxoh3nOOTZE\",\"url\":\"https://www.linkedin.com/company/microsoft/\",\"employees\":{\"start\":10001,\"end\":null}},\"company_url\":\"https://www.linkedin.com/company/microsoft/\",\"date\":{\"start\":{\"month\":null,\"year\":1975},\"end\":{\"month\":null,\"year\":null}},\"profile_positions\":[{\"location\":null,\"date\":{\"start\":{\"month\":null,\"year\":1975},\"end\":{\"month\":null,\"year\":null}},\"company\":\"Microsoft\",\"description\":null,\"title\":\"Co-founder\"}]}],\"volunteer_experiences\":[],\"skills\":[]}\n"
     ]
    }
   ],
   "source": [
    "# sample linkedin data\n",
    "\n",
    "import requests\n",
    "\n",
    "# Set the URL and the payload\n",
    "url = \"https://api.iscraper.io/v2/profile-details\"\n",
    "payload = {\n",
    "  \"profile_id\": \"williamhgates\",\n",
    "  \"profile_type\": \"personal\",\n",
    "  \"contact_info\": False,\n",
    "  \"recommendations\": False,\n",
    "  \"related_profiles\": False,\n",
    "  \"network_info\": False\n",
    "}\n",
    "\n",
    "# Set the headers\n",
    "headers = {\n",
    "    \"Content-Type\": \"application/json\",  # Set the content type to JSON\n",
    "    \"X-API-KEY\": os.getenv(\"ISCRAPER_API_KEY\"),  # Replace \"your-api-key\" with your actual API key\n",
    "}\n",
    "\n",
    "# Send the POST request\n",
    "response = requests.post(url, json=payload, headers=headers)\n",
    "\n",
    "# Print the response\n",
    "print(response.text)"
   ]
  },
  {
   "cell_type": "code",
   "execution_count": null,
   "id": "18546985",
   "metadata": {},
   "outputs": [],
   "source": []
  },
  {
   "cell_type": "code",
   "execution_count": 3,
   "id": "8ee70ce9",
   "metadata": {},
   "outputs": [],
   "source": [
    "# pinecone inserts (TBD)\n",
    "import pinecone\n",
    "\n",
    "api_key = os.getenv(\"PINECONE_API_KEY\")\n",
    "index_name = 'linkedin'\n",
    "index_exists = False\n",
    "\n",
    "pinecone.init(api_key=api_key, environment='us-west1-gcp')\n",
    "pinecone.list_indexes()\n",
    "\n",
    "if index_name in pinecone.list_indexes():\n",
    "    index_exists = True\n",
    "    \n",
    "if index_exists == False:\n",
    "    pinecone.create_index(name=index_name, dimension=300)\n",
    "\n",
    "index = pinecone.Index(index_name=index_name)"
   ]
  }
 ],
 "metadata": {
  "kernelspec": {
   "display_name": "Python 3 (ipykernel)",
   "language": "python",
   "name": "python3"
  },
  "language_info": {
   "codemirror_mode": {
    "name": "ipython",
    "version": 3
   },
   "file_extension": ".py",
   "mimetype": "text/x-python",
   "name": "python",
   "nbconvert_exporter": "python",
   "pygments_lexer": "ipython3",
   "version": "3.8.10"
  }
 },
 "nbformat": 4,
 "nbformat_minor": 5
}
